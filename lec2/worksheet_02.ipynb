{
 "cells": [
  {
   "attachments": {},
   "cell_type": "markdown",
   "metadata": {},
   "source": [
    "# Worksheet 02\n",
    "\n",
    "Name:  James Xiao\n",
    "UID: U71246947\n",
    "\n",
    "### Topics\n",
    "\n",
    "- Effective Programming\n",
    "\n",
    "### Effective Programming\n",
    "\n",
    "a) What is a drawback of the top down approach?"
   ]
  },
  {
   "cell_type": "markdown",
   "metadata": {},
   "source": [
    "A drawback is that it complicates testing/debugging further down the line."
   ]
  },
  {
   "cell_type": "markdown",
   "metadata": {},
   "source": [
    "b) What is a drawback of the bottom up approach?"
   ]
  },
  {
   "cell_type": "markdown",
   "metadata": {},
   "source": [
    "It could be very time-consuming and inflexible, making it harder to trace back on steps down the line."
   ]
  },
  {
   "cell_type": "markdown",
   "metadata": {},
   "source": [
    "c) What are 3 things you can do to have a better debugging experience?"
   ]
  },
  {
   "cell_type": "markdown",
   "metadata": {},
   "source": [
    "Sanity checks while you're coding, reading the errors, and looking online for helpful resources."
   ]
  },
  {
   "attachments": {},
   "cell_type": "markdown",
   "metadata": {},
   "source": [
    "d) Follow along with the live coding. You can write your code here:"
   ]
  },
  {
   "cell_type": "code",
   "execution_count": null,
   "metadata": {},
   "outputs": [],
   "source": [
    "class Board: \n",
    "\tdef __init__(self):\n",
    "\t\tself.board = [[”_” for _ in range(8)] for _ in range(8)] \n",
    "\t\t\n",
    "\tdef __repr__(self): # help us print the board\n",
    "\t\tres =“”\n",
    "\t\tfor row in self.board: \n",
    "\t\t\tfor col in row: \n",
    "\t\t\t\tres += col \n",
    "\t\t\t\tres += “ “\n",
    "\t\t\tres += “\\n”\n",
    "\t\treturn res\n",
    "\n",
    "\tdef is_legal_row(self, row):\n",
    "\t\tfor j in range(len(self.board)):\n",
    "\t\t\tif self.board[row][j] == “Q”: \n",
    "\t\t\t\treturn False \n",
    "\t\treturn True \n",
    "\tdef is_legal_col(self, col):\n",
    "\t\tfor i in range(len(self.board)):\n",
    "\t\t\tif self.board[i][col] == “Q”: \n",
    "\t\t\t\treturn False \t\n",
    "\t\treturn True \n",
    "\tdef is_on_board(self, row, col): \n",
    "\t\treturn row >= 0 and row < 8 and col >= 0 and col < 8 \n",
    "\tdef  is_legal_diag(self, row, col):\n",
    "\t\tfor i in range(len(self.board)):\n",
    "\t\t\tif self.is_on_board(row-i, col-i) and self.board[row-i][col-1] == “Q”:\n",
    "\t\t\t\treturn False \n",
    "\t\t\tif self.is_on_board(row-i, col-i) and self.board[row-i][col-1] == “Q”:\n",
    "\t\t\t\treturn False \n",
    "\t\t\tif self.is_on_board(row-i, col-i) and self.board[row-i][col-1] == “Q”:\n",
    "\t\t\t\treturn False \n",
    "\t\t\tif self.is_on_board(row-i, col-i) and self.board[row-i][col-1] == “Q”:\n",
    "\t\t\t\treturn False \n",
    "\t\t\t\n",
    "\t\treturn True \n",
    "\tdef  set_queen_at(self, row,  col): \n",
    "\t\tself.board[row][col] = “Q”\n",
    "\tdef unset_queen_on(self, row):\n",
    "\t\tself.board[row] = [“_” for _ in range(8)] \n",
    "\tdef get_queen_on(self, row):\n",
    "\t\tfor col in range(len(self.board)): \n",
    "\t\t\tif self.board[row][col]== “Q”: \n",
    "\t\t\t\treturn col \n",
    "\t\traise ValueError(“programmer error”)\n",
    "\tdef search(self): \n",
    "\t\trow = 0 \n",
    "\t\tcol = 0\n",
    "\n",
    "\t\twhile row < 8:\n",
    "\t\t\tif self.is_legal(row, col):\n",
    "\t\t\t\tself.set_queen_at(row,col): # if we’re able to set a queen in one row, we can’t put a queen in the rest of the row\n",
    "\t\t\t\trow += 1\n",
    "\t\t\t\tcol = 0 \n",
    "\t\t\telse: \n",
    "\t\t\t\tcol += 1 \n",
    "\t\t\t\tif col >= 8: # no queen was placed on this row \n",
    "\t\t\t\t\tcol = self.get_queen_on(row - 1) \n",
    "\t\t\t\t\tself.unset_queen_on(row - 1) \n",
    "\t\t\t\t\tcol += 1\n",
    "\t\t\t\t\trow -= 1\n"
   ]
  }
 ],
 "metadata": {
  "kernelspec": {
   "display_name": "Python 3",
   "language": "python",
   "name": "python3"
  },
  "language_info": {
   "name": "python",
   "version": "3.11.1 (main, Dec  7 2022, 00:00:00) [GCC 12.2.1 20221121 (Red Hat 12.2.1-4)]"
  },
  "orig_nbformat": 4,
  "vscode": {
   "interpreter": {
    "hash": "76ca05dc3ea24b2e3b98cdb7774adfbb40773424bf5109b477fd793f623715af"
   }
  }
 },
 "nbformat": 4,
 "nbformat_minor": 2
}
